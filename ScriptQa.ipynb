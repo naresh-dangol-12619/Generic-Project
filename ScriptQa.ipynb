{
 "cells": [
  {
   "cell_type": "code",
   "execution_count": 1,
   "metadata": {},
   "outputs": [],
   "source": [
    "import os\n"
   ]
  },
  {
   "cell_type": "markdown",
   "metadata": {},
   "source": [
    "### 1. Setup.py Function and Logic"
   ]
  },
  {
   "cell_type": "code",
   "execution_count": 6,
   "metadata": {},
   "outputs": [],
   "source": [
    "import sys\n",
    "from typing import List\n",
    "from setuptools import find_packages,setup\n",
    "\n",
    "def get_requirements(file_path:str)-> List[str]:\n",
    "    '''\n",
    "    this function will return the list of the requirements\n",
    "    '''\n",
    "    HYPEN_E_DOT = '-e.'\n",
    "    requirements = []\n",
    "    with open(file_path) as file_obj:\n",
    "        requirements = file_obj.readlines()\n",
    "        requirements =  [req.replace(\"\\n\",\"\") for req in requirements]\n",
    "        if HYPEN_E_DOT in requirements:\n",
    "            requirements.remove(HYPEN_E_DOT)\n",
    "    return requirements"
   ]
  },
  {
   "cell_type": "code",
   "execution_count": 7,
   "metadata": {},
   "outputs": [
    {
     "data": {
      "text/plain": [
       "['pandas', 'numpy', 'seaborn']"
      ]
     },
     "execution_count": 7,
     "metadata": {},
     "output_type": "execute_result"
    }
   ],
   "source": [
    "get_requirements('requirements.txt')"
   ]
  },
  {
   "cell_type": "code",
   "execution_count": null,
   "metadata": {},
   "outputs": [],
   "source": []
  },
  {
   "cell_type": "markdown",
   "metadata": {},
   "source": [
    "### 2. Exception Handling Function and Logic"
   ]
  },
  {
   "cell_type": "code",
   "execution_count": 9,
   "metadata": {},
   "outputs": [
    {
     "name": "stdout",
     "output_type": "stream",
     "text": [
      "Error Type: <class 'ZeroDivisionError'>, Error Message: division by zero, Line: 5  C:\\Users\\nares\\AppData\\Local\\Temp\\ipykernel_13364\\3135038769.py\n"
     ]
    }
   ],
   "source": [
    "import sys\n",
    "\n",
    "def divide(x, y):\n",
    "    try:\n",
    "        result = x / y\n",
    "        return result\n",
    "    except Exception as e:\n",
    "        exc_type, exc_obj, exc_tb = sys.exc_info()\n",
    "        file_name =  exc_tb.tb_frame.f_code.co_filename\n",
    "        error_line_no = exc_tb.tb_lineno\n",
    "        return f\"Error Type: {exc_type}, Error Message: {e}, Line: {error_line_no}  {file_name}\"\n",
    "\n",
    "# Example usage\n",
    "print(divide(10, 0))  # Causes a division by zero error\n"
   ]
  },
  {
   "cell_type": "code",
   "execution_count": null,
   "metadata": {},
   "outputs": [],
   "source": []
  },
  {
   "cell_type": "markdown",
   "metadata": {},
   "source": [
    "### 3. logger.py Function and logic"
   ]
  },
  {
   "cell_type": "code",
   "execution_count": 17,
   "metadata": {},
   "outputs": [
    {
     "name": "stdout",
     "output_type": "stream",
     "text": [
      "log_file_name= 04_13_2024_11_02_04.log\n",
      "log_path= c:/Users/nares/Desktop/vsc/Generic-Project/logs/04_13_2024_11_02_04.log\n",
      "LOG_FILE_PATH = c:/Users/nares/Desktop/vsc/Generic-Project/logs/04_13_2024_11_02_04.log\\04_13_2024_11_02_04.log\n"
     ]
    }
   ],
   "source": [
    "import logging\n",
    "import os\n",
    "from datetime import datetime\n",
    "LOG_FILE = f\"{datetime.now().strftime('%m_%d_%Y_%H_%M_%S')}.log\"\n",
    "print(f\"log_file_name= {LOG_FILE}\")\n",
    "\n",
    "logs_path = os.path.join(os.getcwd(),\"logs\",LOG_FILE).replace (\"\\\\\",'/')\n",
    "print(f\"log_path= {logs_path}\")\n",
    "# os.makedirs(logs_path, exist_ok=True)\n",
    "\n",
    "LOG_FILE_PATH = os.path.join(logs_path,LOG_FILE)\n",
    "print(f\"LOG_FILE_PATH = {LOG_FILE_PATH}\")\n",
    "logging.basicConfig(\n",
    "    filename=LOG_FILE_PATH,\n",
    "    format=\"[ %(asctime)s ] %(lineno)d %(name)s - %(levelname)s - %(message)s\",\n",
    "    level=logging.INFO\n",
    ")"
   ]
  },
  {
   "cell_type": "code",
   "execution_count": null,
   "metadata": {},
   "outputs": [],
   "source": []
  },
  {
   "cell_type": "code",
   "execution_count": null,
   "metadata": {},
   "outputs": [],
   "source": []
  }
 ],
 "metadata": {
  "kernelspec": {
   "display_name": "ds",
   "language": "python",
   "name": "python3"
  },
  "language_info": {
   "codemirror_mode": {
    "name": "ipython",
    "version": 3
   },
   "file_extension": ".py",
   "mimetype": "text/x-python",
   "name": "python",
   "nbconvert_exporter": "python",
   "pygments_lexer": "ipython3",
   "version": "3.8.19"
  }
 },
 "nbformat": 4,
 "nbformat_minor": 2
}
