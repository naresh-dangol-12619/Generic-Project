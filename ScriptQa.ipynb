{
 "cells": [
  {
   "cell_type": "code",
   "execution_count": 3,
   "metadata": {},
   "outputs": [],
   "source": [
    "import os"
   ]
  },
  {
   "cell_type": "code",
   "execution_count": 8,
   "metadata": {},
   "outputs": [
    {
     "name": "stdout",
     "output_type": "stream",
     "text": [
      "['pandas\\n', 'numpy\\n', 'seaborn\\n', '-e.']\n"
     ]
    },
    {
     "data": {
      "text/plain": [
       "['pandas', 'numpy', 'seaborn', '-e.']"
      ]
     },
     "execution_count": 8,
     "metadata": {},
     "output_type": "execute_result"
    }
   ],
   "source": [
    "requirements = []\n",
    "with open ('requirements.txt') as file_obj:\n",
    "    requirements = file_obj.readlines()\n",
    "    print(requirements)\n",
    "    requirements =  [req.replace(\"\\n\",\"\") for req in requirements]\n",
    "requirements"
   ]
  },
  {
   "cell_type": "code",
   "execution_count": 9,
   "metadata": {},
   "outputs": [],
   "source": [
    "HYPEM_R_DOT = '-e.'\n",
    "if HYPEM_R_DOT in requirements:\n",
    "    print 'ok'"
   ]
  },
  {
   "cell_type": "code",
   "execution_count": 15,
   "metadata": {},
   "outputs": [
    {
     "name": "stdout",
     "output_type": "stream",
     "text": [
      "['pandas', 'numpy', 'seaborn', '-e.']\n"
     ]
    },
    {
     "data": {
      "text/plain": [
       "['pandas', 'numpy', 'seaborn']"
      ]
     },
     "execution_count": 15,
     "metadata": {},
     "output_type": "execute_result"
    }
   ],
   "source": [
    "file_path = 'requirements.txt'\n",
    "\n",
    "HYPEM_R_DOT = '-e.'\n",
    "requirements = []\n",
    "with open(file_path) as file_obj:\n",
    "    requirements = file_obj.readlines()\n",
    "    requirements =  [req.replace(\"\\n\",\"\") for req in requirements]\n",
    "\n",
    "    print(requirements)\n",
    "    \n",
    "    if HYPEM_R_DOT in requirements:\n",
    "        requirements.remove(HYPEM_R_DOT)\n",
    "\n",
    "requirements"
   ]
  },
  {
   "cell_type": "code",
   "execution_count": 16,
   "metadata": {},
   "outputs": [],
   "source": [
    "from setuptools import find_packages,setup"
   ]
  },
  {
   "cell_type": "code",
   "execution_count": 13,
   "metadata": {},
   "outputs": [
    {
     "name": "stdout",
     "output_type": "stream",
     "text": [
      "Error Type: <class 'ZeroDivisionError'>, Error Message: division by zero, Line: 5  C:\\Users\\nares\\AppData\\Local\\Temp\\ipykernel_3808\\3135038769.py\n"
     ]
    }
   ],
   "source": [
    "import sys\n",
    "\n",
    "def divide(x, y):\n",
    "    try:\n",
    "        result = x / y\n",
    "        return result\n",
    "    except Exception as e:\n",
    "        exc_type, exc_obj, exc_tb = sys.exc_info()\n",
    "        file_name =  exc_tb.tb_frame.f_code.co_filename\n",
    "        error_line_no = exc_tb.tb_lineno\n",
    "        return f\"Error Type: {exc_type}, Error Message: {e}, Line: {error_line_no}  {file_name}\"\n",
    "\n",
    "# Example usage\n",
    "print(divide(10, 0))  # Causes a division by zero error\n"
   ]
  },
  {
   "cell_type": "code",
   "execution_count": 1,
   "metadata": {},
   "outputs": [
    {
     "name": "stdout",
     "output_type": "stream",
     "text": [
      "04_08_2024_23_23_06.log\n",
      "c:/Users/nares/Desktop/vsc/Generic-Project/logs/04_08_2024_23_23_06.log\n"
     ]
    }
   ],
   "source": [
    "import logging\n",
    "import os\n",
    "from datetime import datetime\n",
    "LOG_FILE = f\"{datetime.now().strftime('%m_%d_%Y_%H_%M_%S')}.log\"\n",
    "print(LOG_FILE)\n",
    "\n",
    "logs_path = os.path.join(os.getcwd(),\"logs\",LOG_FILE).replace (\"\\\\\",'/')\n",
    "print(logs_path)\n",
    "os.makedirs(logs_path, exist_ok=True)\n",
    "\n",
    "LOG_FILE_PATH = os.path.join(logs_path,LOG_FILE)\n",
    "\n",
    "logging.basicConfig(\n",
    "    filename=LOG_FILE_PATH,\n",
    "    format=\"[ %(asctime)s ] %(lineno)d %(name)s - %(levelname)s - %(message)s\",\n",
    "    level=logging.INFO\n",
    ")"
   ]
  },
  {
   "cell_type": "code",
   "execution_count": null,
   "metadata": {},
   "outputs": [],
   "source": []
  },
  {
   "cell_type": "code",
   "execution_count": null,
   "metadata": {},
   "outputs": [],
   "source": []
  }
 ],
 "metadata": {
  "kernelspec": {
   "display_name": "ds",
   "language": "python",
   "name": "python3"
  },
  "language_info": {
   "codemirror_mode": {
    "name": "ipython",
    "version": 3
   },
   "file_extension": ".py",
   "mimetype": "text/x-python",
   "name": "python",
   "nbconvert_exporter": "python",
   "pygments_lexer": "ipython3",
   "version": "3.8.19"
  }
 },
 "nbformat": 4,
 "nbformat_minor": 2
}
